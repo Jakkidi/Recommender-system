{
 "cells": [
  {
   "cell_type": "code",
   "execution_count": null,
   "metadata": {},
   "outputs": [],
   "source": [
    "from tkinter import*\n",
    "from tkinter import messagebox\n",
    "from tkinter import Tk, mainloop, TOP\n",
    "from tkinter.ttk import Combobox\n",
    "import pandas as pd\n",
    "import numpy as np\n",
    "from PIL import ImageTk,Image\n",
    "def recomm():\n",
    "    win2=Tk()\n",
    "    win2.title(\"The Recommended movies are\")\n",
    "    df=pd.read_csv('movie_dataset.csv')\n",
    "    features=['genres','production_countries','keywords']\n",
    "    for x in features:\n",
    "         df[x]=df[x].fillna(' ')\n",
    "    def combine(row):\n",
    "        return str(row['genres'])+' '+str(row['production_countries'])+' '+str(row['keywords'])+' '+str(row['cast'])+' '+str(row['crew'])+' '+str(row['director'])+' '+str(row['production_companies'])\n",
    "    df[\"combined_features\"]=df.apply(combine,axis=1)\n",
    "    from sklearn.feature_extraction.text import TfidfVectorizer\n",
    "    tfidf = TfidfVectorizer(stop_words='english')\n",
    "    tfidf_matrix = tfidf.fit_transform(df[\"combined_features\"])\n",
    "    from sklearn.metrics.pairwise import linear_kernel\n",
    "    cosine_sim = linear_kernel(tfidf_matrix, tfidf_matrix)\n",
    "    indices = pd.Series(df.index, index=df['title']).drop_duplicates()\n",
    "    def content_recommender(title, cosine_sim=cosine_sim, df=df, indices=indices):\n",
    "        idx = indices[title]\n",
    "        sim_scores = list(enumerate(cosine_sim[idx]))\n",
    "        sim_scores = sorted(sim_scores, key=lambda x: x[1], reverse=True)\n",
    "        j=1\n",
    "        sim_scores = sim_scores[1:25]\n",
    "        Label(win2,text=\"Movies Recommended\",relief=\"raised\").grid(column=0,row=0)\n",
    "        #course_indices = [i[0] for i in sim_scores]\n",
    "        for i in sim_scores:\n",
    "            Label(win2,text=df['title'].iloc[i[0]]).grid(column=0,row=j)        \n",
    "            j=j+1\n",
    "\n",
    "    content_recommender(en.get())\n",
    "    win2.mainloop()\n",
    "        \n",
    "win=Tk() \n",
    "#win.geometry('600x600') \n",
    "win.title(\"Movies\")\n",
    "win.iconbitmap('C:/Users/venka/Downloads/mov.ico')\n",
    "myimg=ImageTk.PhotoImage(Image.open(\"C:/Users/venka/Downloads/wg.jpg\"))\n",
    "mylab=Label(image=myimg)\n",
    "mylab.grid()\n",
    "label=Label(win,bg=\"LightBlue\",fg=\"Black\",text=\"Enter The Movie You Like\",relief=\"raised\",font=\"Helvetica 10 bold italic\",\n",
    "           )\n",
    "label.grid(row=1,column=0)\n",
    "one=StringVar()\n",
    "en=Entry(win,textvariable=one)\n",
    "en.grid(row=1,column=1)\n",
    "but=Button(win,text=\"Start\",command=recomm,bg=\"Green\",fg=\"White\")\n",
    "but.grid(row=10,column=0)\n",
    "but2=Button(win,text=\"Exit\",command=win.destroy,bg=\"Red\",fg=\"White\")\n",
    "but2.grid(row=10,column=3)\n",
    "\n",
    "win.mainloop()\n"
   ]
  },
  {
   "cell_type": "code",
   "execution_count": null,
   "metadata": {},
   "outputs": [],
   "source": []
  }
 ],
 "metadata": {
  "kernelspec": {
   "display_name": "Python 3",
   "language": "python",
   "name": "python3"
  },
  "language_info": {
   "codemirror_mode": {
    "name": "ipython",
    "version": 3
   },
   "file_extension": ".py",
   "mimetype": "text/x-python",
   "name": "python",
   "nbconvert_exporter": "python",
   "pygments_lexer": "ipython3",
   "version": "3.7.4"
  }
 },
 "nbformat": 4,
 "nbformat_minor": 2
}
